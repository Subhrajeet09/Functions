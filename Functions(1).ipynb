{
 "cells": [
  {
   "cell_type": "raw",
   "id": "42a4bdac-74aa-4e3b-b816-a24ff91fd5fb",
   "metadata": {},
   "source": [
    "Q.1 What is the difference between a function and a method in Python?\n",
    "Ans # A function is a block of code that performs a specific task.\n",
    "    It is defined using the def keyword.\n",
    "    It can exist independently of any object.\n",
    "    You call it directly by name.\n",
    "    Example:\n",
    "    def greet(name):\n",
    "    return f\"Hello, {name}!\"\n",
    "\n",
    "print(greet(\"Alice\"))\n",
    "\n",
    "    # A method is a function that is associated with an object (i.e., it belongs to a class).\n",
    "    It is called using dot notation on an object.\n",
    "    The first parameter is usually self, which refers to the instance calling the method.\n",
    "    Example: \n",
    "    class Greeter:\n",
    "    def greet(self, name):\n",
    "        return f\"Hello, {name}!\"\n",
    "\n",
    "g = Greeter()\n",
    "print(g.greet(\"Bob\"))"
   ]
  },
  {
   "cell_type": "raw",
   "id": "53cb4265-0787-450b-bad7-a9fe49aa717c",
   "metadata": {},
   "source": [
    "#Q.2 Explain the concept of function arguments and parameters in Python.\n",
    "Ans  🔹 Parameters:\n",
    "     Parameters are the placeholders (or variables) listed in the function definition.\n",
    "     They define what kind of input the function expects.\n",
    "     Example:\n",
    "     def greet(name):  # 'name' is a parameter\n",
    "    print(f\"Hello, {name}!\")\n",
    "    🔹 Arguments:\n",
    "    Arguments are the actual values you pass to a function when calling it.\n",
    "    They are matched to the parameters in the function.\n",
    "    Example:\n",
    "    greet(\"Alice\")  # \"Alice\" is an argument"
   ]
  },
  {
   "cell_type": "raw",
   "id": "63021460-8a91-43ab-ab72-bb7a8caf515b",
   "metadata": {},
   "source": [
    "Q.3 What are the different ways to define and call a function in Python?\n",
    "Ans🔹1.Standard Function Definition\n",
    "     #Define:\n",
    "     def greet(name):\n",
    "    print(f\"Hello, {name}!\")\n",
    "     #Call:\n",
    "    greet(\"Alice\")\n",
    "    \n",
    "   🔹2.Function with Default Arguments\n",
    "       #Define:\n",
    "        def greet(name=\"Guest\"):\n",
    "    print(f\"Hello, {name}!\")\n",
    "       #Call:\n",
    "      greet()           # Uses default\n",
    "      greet(\"Bob\")      # Overrides default\n",
    "\n",
    "   🔹3.Function with Variable-length Arguments\n",
    "        #Define:\n",
    "        def show_args(*args):\n",
    "    print(args)  # args is a tuple\n",
    "\n",
    "def show_kwargs(**kwargs):\n",
    "    print(kwargs)  # kwargs is a dictionary\n",
    "        #Call:\n",
    "       show_args(1, 2, 3)\n",
    "show_kwargs(name=\"Alice\", age=25)\n",
    "\n",
    "   🔹4. Lambda (Anonymous) Function\n",
    "      For short, one-line functions.\n",
    "      #Define and call:\n",
    "     add = lambda x, y: x + y\n",
    "print(add(3, 4))  # Output: 7\n",
    "\n",
    "    🔹5. Recursive Function\n",
    "         A function that calls itself.\n",
    "        #Define:\n",
    "        def factorial(n):\n",
    "    if n == 0:\n",
    "        return 1\n",
    "    return n * factorial(n-1)\n",
    "        #Call:\n",
    "       print(factorial(5))  # Output: 120\n",
    "\n",
    "    🔹 6. Function Inside Another Function (Nested)\n",
    "           ✅ Define:\n",
    "              def outer():\n",
    "                def inner():\n",
    "                  print(\"Inside inner\")\n",
    "                inner()\n",
    "            ✅ Call:\n",
    "                outer()\n",
    "\n",
    "     🔹 7. Function in a Class (Method)\n",
    "           ✅ Define:\n",
    "            class Greeter:\n",
    "              def greet(self, name):\n",
    "                print(f\"Hello, {name}!\")\n",
    "✅ Call:\n",
    "obj = Greeter()\n",
    "obj.greet(\"Sam\")\n",
    "\n",
    "🔹 8. Passing Functions as Arguments\n",
    "✅ Define:\n",
    "def apply(func, x, y):\n",
    "    return func(x, y)\n",
    "\n",
    "def multiply(a, b):\n",
    "    return a * b\n",
    "✅ Call:\n",
    "print(apply(multiply, 2, 3))  # Output: 6\n",
    "🔹 9. Using *args and **kwargs Together\n",
    "✅ Define:\n",
    "def test(*args, **kwargs):\n",
    "    print(\"Args:\", args)\n",
    "    print(\"Kwargs:\", kwargs)\n",
    "✅ Call:\n",
    "test(1, 2, 3, name=\"Tom\", age=20)"
   ]
  },
  {
   "cell_type": "raw",
   "id": "fea7ec24-3168-4722-a3e9-951e245641b5",
   "metadata": {},
   "source": [
    "#Q.4 What is the purpose of the `return` statement in a Python function?\n",
    "Ans The return statement in a Python function is used to send a result back to the place where the function was called. It ends the function’s execution     and optionally passes back a value.\n",
    "    Example:\n",
    "    def add(a, b):\n",
    "    return a + b\n",
    "\n",
    "result = add(3, 5)\n",
    "print(result)  # Output: 8\n"
   ]
  },
  {
   "cell_type": "raw",
   "id": "58ef0910-f41e-4fd1-aabe-b600352cb097",
   "metadata": {},
   "source": [
    "#Q.5 What are iterators in Python and how do they differ from iterables?\n",
    "Ans  An iterable is any object in Python that can return an iterator.\n",
    "     It implements the __iter__() method.\n",
    "     It can be looped over using a for loop.\n",
    "     Example:\n",
    "my_list = [1, 2, 3]\n",
    "my_string = \"hello\"\n",
    "my_tuple = (4, 5, 6)\n",
    "\n",
    "    An iterator is an object that:\n",
    "    Remembers its current position during iteration.\n",
    "    Has a __next__() method to get the next value.\n",
    "    Raises StopIteration when there are no more items.\n",
    "    Example:\n",
    "my_list = [1, 2, 3]\n",
    "it = iter(my_list)        # Create an iterator\n",
    "\n",
    "print(next(it))           # Output: 1\n",
    "print(next(it))           # Output: 2\n",
    "print(next(it))           # Output: 3\n",
    "# print(next(it))         # Raises StopIteration"
   ]
  },
  {
   "cell_type": "raw",
   "id": "d75aefff-a7c8-477b-852b-e6054d2a4d05",
   "metadata": {},
   "source": [
    "#Q.6 Explain the concept of generators in Python and how they are defined.\n",
    "Ans  In Python, generators are a simple and powerful way to create iterators using functions. They allow you to generate values on the fly, one at a          time, without storing the entire sequence in memory.\n",
    "     A generator is a function that:\n",
    "     Uses the yield keyword instead of return.\n",
    "     Pauses execution at yield, and resumes when the next value is requested.\n",
    "     Automatically creates an iterator object.\n",
    "     Example of how to define it:\n",
    "     def count_up_to(n):\n",
    "    i = 1\n",
    "    while i <= n:\n",
    "        yield i  # yields a value and pauses\n",
    "        i += 1"
   ]
  },
  {
   "cell_type": "raw",
   "id": "bb749ee0-78ea-43ac-918f-43d86d39c0be",
   "metadata": {},
   "source": [
    "#Q.7 What are the advantages of using generators over regular functions?\n",
    "Ans  Generators offer several key advantages over regular functions, especially when dealing with large data sets or stream-based processing.\n",
    "     1. Memory Efficiency\n",
    "        Generators don’t store all values in memory.\n",
    "        They yield one item at a time, making them ideal for large or infinite sequences.\n",
    "     2. Lazy Evaluation\n",
    "        Values are generated only when needed.\n",
    "        This means computation is deferred until the value is actually used.\n",
    "     3. Improved Performance\n",
    "        Especially useful in I/O-bound programs (like file or network processing).\n",
    "        Generators reduce overhead by avoiding unnecessary calculations or memory allocations.\n",
    "     4. Pipeline Support\n",
    "        Generators can be chained together to build efficient data processing pipelines.\n",
    "     5. Cleaner Code\n",
    "        Simpler to write and read compared to full iterator classes.\n",
    "        No need to implement __iter__() and __next__() manually.\n",
    "     6. Infinite Sequences\n",
    "        Easy to create sequences that go on forever (until you break the loop).\n",
    "\n",
    "        Example:\n",
    "def count_up_to(n):\n",
    "    for i in range(n):\n",
    "        yield i"
   ]
  },
  {
   "cell_type": "raw",
   "id": "4218b51f-580c-4f78-bbe2-f11f9e61d7e1",
   "metadata": {},
   "source": [
    "#Q.8 What is a lambda function in Python and when is it typically used?\n",
    "Ans  A lambda function in Python is a small, anonymous function defined with the lambda keyword instead of def.\n",
    "     It can take any number of arguments but has only one expression.\n",
    "     Returns the value of that expression automatically (no need to write return).\n",
    "     Lambda functions are typically used:\n",
    "     For short, throwaway functions where defining a full function would be overkill.\n",
    "     As arguments to higher-order functions like:\n",
    "     map()\n",
    "     filter()\n",
    "     sorted()\n",
    "     reduce()\n",
    "\n",
    "     Example:\n",
    "nums = [1, 2, 3, 4]\n",
    "squares = list(map(lambda x: x**2, nums))\n",
    "print(squares)  # Output: [1, 4, 9, 16]\n"
   ]
  },
  {
   "cell_type": "raw",
   "id": "6682511b-63e9-4367-94d6-abba1a2ccb30",
   "metadata": {},
   "source": [
    "#Q.9 Explain the purpose and usage of the `map()` function in Python.\n",
    "Ans  The map() function in Python is used to apply a function to every item in an iterable (like a list, tuple, etc.) and return a new iterator with the results. \n",
    "🔹 Purpose of map()\n",
    "To transform each element of an iterable using a given function.\n",
    "It's a cleaner and often more efficient alternative to writing a for loop.\n",
    "Example:\n",
    "def square(x):\n",
    "    return x * x\n",
    "\n",
    "numbers = [1, 2, 3, 4]\n",
    "squared = map(square, numbers)\n",
    "print(list(squared))  # Output: [1, 4, 9, 16]"
   ]
  },
  {
   "cell_type": "raw",
   "id": "35423526-974e-4920-851f-aebf4aac1f2c",
   "metadata": {},
   "source": [
    "#Q.10 What is the difference between `map()`, `reduce()`, and `filter()` functions in Python?\n",
    "Ans.  1. map() – Transform Each Item\n",
    "Applies a function to each item in an iterable and returns a new iterator with the results.\n",
    "✅ Example: \n",
    "nums = [1, 2, 3, 4]\n",
    "result = map(lambda x: x * 2, nums)\n",
    "print(list(result))  # [2, 4, 6, 8]\n",
    "\n",
    "2. filter() – Filter Items Based on Condition\n",
    "Applies a function that returns True/False to each item and keeps only the items that return True.\n",
    "✅ Example:\n",
    "nums = [1, 2, 3, 4]\n",
    "result = filter(lambda x: x % 2 == 0, nums)\n",
    "print(list(result))  # [2, 4]\n",
    "\n",
    "3. reduce() – Combine Items into a Single Value\n",
    "Applies a function to pairs of items in an iterable to reduce it to a single value.\n",
    "It’s not built-in — you need to import it from functools.\n",
    "✅ Example:\n",
    "from functools import reduce\n",
    "\n",
    "nums = [1, 2, 3, 4]\n",
    "result = reduce(lambda x, y: x + y, nums)\n",
    "print(result)  # 10"
   ]
  },
  {
   "cell_type": "raw",
   "id": "e586a6a4-59be-420b-8f12-782f063f0811",
   "metadata": {},
   "source": [
    "#Q.11 Using pen & Paper write the internal mechanism for sum operation using  reduce function on this given\n",
    "      list:[47,11,42,13]; \n",
    "Ans.   "
   ]
  },
  {
   "cell_type": "raw",
   "id": "1107e28b-7135-4b2e-8d8e-cd74b069d600",
   "metadata": {},
   "source": [
    "##Practical Questions"
   ]
  },
  {
   "cell_type": "code",
   "execution_count": 2,
   "id": "46935b54-a37f-4e71-869c-682061372ed7",
   "metadata": {},
   "outputs": [
    {
     "name": "stdin",
     "output_type": "stream",
     "text": [
      "enter any number1: 1\n",
      "enter any number2: 2\n",
      "enter any number3: 3\n",
      "enter any number4: 6\n",
      "enter any number5: 5\n"
     ]
    },
    {
     "name": "stdout",
     "output_type": "stream",
     "text": [
      "list of numbers you have entered:[1, 2, 3, 6, 5]\n",
      "even numbers in the list:[2, 6]\n",
      "the sum of even numbers:8\n"
     ]
    }
   ],
   "source": [
    "#Q.1\n",
    "def list_sum():\n",
    "    list1=[]\n",
    "    list2=[]\n",
    "    for i in range(1,6):\n",
    "        n=int(input(f\"enter any number{i}:\"))\n",
    "        list1.append(n)\n",
    "        \n",
    "        if n%2==0:\n",
    "            list2.append(n)\n",
    "   \n",
    "    print(f\"list of numbers you have entered:{list1}\")\n",
    "    print(f\"even numbers you entered:{list2}\")\n",
    "    print(f\"the sum of even numbers:{sum(list2)}\")\n",
    "\n",
    "list_sum()"
   ]
  },
  {
   "cell_type": "code",
   "execution_count": 4,
   "id": "f8985836-6f3b-40b7-8bee-c8d3c353514f",
   "metadata": {},
   "outputs": [
    {
     "name": "stdout",
     "output_type": "stream",
     "text": [
      "olleh\n"
     ]
    }
   ],
   "source": [
    "#Q.2\n",
    "def reverse_str(word):\n",
    "    return(word[::-1])\n",
    "\n",
    "print(reverse_str('hello'))"
   ]
  },
  {
   "cell_type": "code",
   "execution_count": 5,
   "id": "f54bd126-2603-4c60-b5a5-badc2f640795",
   "metadata": {},
   "outputs": [
    {
     "name": "stdout",
     "output_type": "stream",
     "text": [
      "[1, 4, 9, 16, 25]\n"
     ]
    }
   ],
   "source": [
    "#Q.3\n",
    "def squares(numbers=[]):\n",
    "    list1=[]\n",
    "    for n in numbers:\n",
    "       list1.append(n*n)\n",
    "    return(list1)\n",
    "\n",
    "print(squares([1,2,3,4,5]))"
   ]
  },
  {
   "cell_type": "code",
   "execution_count": 11,
   "id": "4f156791-3ffc-4e43-85ca-cfa523fba6e3",
   "metadata": {},
   "outputs": [],
   "source": [
    "#Q.4\n",
    "def prime_num():\n",
    "    n=int(input(\"enter any positive number:\"))\n",
    "    if n==1:\n",
    "        print(\"it is not a prime number\")\n",
    "\n",
    "    else:\n",
    "        if n>200:\n",
    "            print(\"please enter any number within 200\")\n",
    "        for i in range(2,n):\n",
    "            if (n%i)==0:\n",
    "                print(\"number is not a prime number\")\n",
    "                break\n",
    "        else:\n",
    "            print(\"it's a prime number\")\n",
    "\n",
    "prime_num()"
   ]
  },
  {
   "cell_type": "code",
   "execution_count": null,
   "id": "4da5474e-49bf-40a0-9835-1e29e9972f1a",
   "metadata": {},
   "outputs": [],
   "source": [
    "#Q.5\n",
    "def fibonacci():\n",
    "    list1=[]\n",
    "    i=0\n",
    "    s=1\n",
    "    add=0\n",
    "    list1.append(i)\n",
    "    list1.append(s)\n",
    "    while add<500:\n",
    "        add=list1[-1]+list1[-2]\n",
    "        list1.append(add)\n",
    "    print(list1)\n",
    "\n",
    "fibonacci()"
   ]
  },
  {
   "cell_type": "code",
   "execution_count": 20,
   "id": "11548489-6b28-4da6-9509-478dbcbd49bf",
   "metadata": {},
   "outputs": [
    {
     "name": "stdin",
     "output_type": "stream",
     "text": [
      "enter any exponent of 2: 4\n"
     ]
    },
    {
     "name": "stdout",
     "output_type": "stream",
     "text": [
      "16\n"
     ]
    }
   ],
   "source": [
    "#Q.6\n",
    "def exponent():\n",
    "    n=int(input(\"enter any exponent of 2:\"))\n",
    "    result=2**n\n",
    "    yield result\n",
    "    \n",
    "gen=exponent()\n",
    "print(next(gen))"
   ]
  },
  {
   "cell_type": "code",
   "execution_count": null,
   "id": "bd997e3b-3932-4cbf-926c-bdea1fa5e9ea",
   "metadata": {},
   "outputs": [],
   "source": [
    "#Q.7\n",
    "def read_lines():\n",
    "    line=1\n",
    "    with open(\"file.txt\")as f:\n",
    "        for lines in f:\n",
    "            yield (f\"{line}.{lines.strip()}\")\n",
    "            line+=1\n",
    "        \n",
    "gen=read_lines()\n",
    "for line in gen:\n",
    "    print(line)"
   ]
  },
  {
   "cell_type": "code",
   "execution_count": 21,
   "id": "db6ab657-503b-4dc0-b9ad-4ea0e7be7c6c",
   "metadata": {},
   "outputs": [
    {
     "name": "stdout",
     "output_type": "stream",
     "text": [
      "[(1, 2), (3, 4), (5, 6), (11, 9)]\n"
     ]
    }
   ],
   "source": [
    "#Q.8\n",
    "list1=[(1,2),(3,4),(5,6),(11,9)]\n",
    "sorting=sorted(list1, key=lambda x:x[1])\n",
    "print(sorting)"
   ]
  },
  {
   "cell_type": "code",
   "execution_count": 24,
   "id": "ed790e53-5548-414f-8e0f-bf9c3bbd3cbe",
   "metadata": {},
   "outputs": [
    {
     "name": "stdout",
     "output_type": "stream",
     "text": [
      "fahrenheit list: [98.6, 104.0, 122.0, 176.0, 212.0]\n"
     ]
    }
   ],
   "source": [
    "#Q.9\n",
    "def temp_converter():\n",
    "    temp_list=[37,40,50,80,100]\n",
    "    fah=list(map((lambda x:(x*9/5)+32),temp_list))\n",
    "    print(\"fahrenheit list:\",fah)\n",
    "\n",
    "temp_converter()"
   ]
  },
  {
   "cell_type": "code",
   "execution_count": 26,
   "id": "b87fd852-ab57-4115-bcdc-404425a2dab5",
   "metadata": {},
   "outputs": [
    {
     "name": "stdout",
     "output_type": "stream",
     "text": [
      "hy vryn, my nm s Shbh\n"
     ]
    }
   ],
   "source": [
    "#Q.10\n",
    "word=('hey everyone, my name is Shubh')\n",
    "vowels=''.join(filter(lambda a:a.lower() not in 'aeiou',word))\n",
    "print(vowels)"
   ]
  },
  {
   "cell_type": "code",
   "execution_count": 27,
   "id": "ee900d60-0c58-43dd-8c8a-0e4a81acfc7a",
   "metadata": {},
   "outputs": [
    {
     "name": "stdout",
     "output_type": "stream",
     "text": [
      "[(34587, 173.8), (98762, 294.0), (77226, 108.85000000000001), (88112, 84.97)]\n"
     ]
    }
   ],
   "source": [
    "#Q.11\n",
    "def orders():\n",
    "    orders = [\n",
    "        (34587, 40.95, 4),\n",
    "        (98762, 56.80, 5),\n",
    "        (77226, 32.95, 3),\n",
    "        (88112, 24.99, 3)\n",
    "    ]\n",
    "    updated_orders = list(map(lambda order: (order[0], order[1] * order[2] + 10 if order[1] * order[2] < 10000 else order[1] * order[2]),orders))\n",
    "\n",
    "    return updated_orders\n",
    "\n",
    "print(orders())"
   ]
  }
 ],
 "metadata": {
  "kernelspec": {
   "display_name": "Python 3 (ipykernel)",
   "language": "python",
   "name": "python3"
  },
  "language_info": {
   "codemirror_mode": {
    "name": "ipython",
    "version": 3
   },
   "file_extension": ".py",
   "mimetype": "text/x-python",
   "name": "python",
   "nbconvert_exporter": "python",
   "pygments_lexer": "ipython3",
   "version": "3.12.7"
  }
 },
 "nbformat": 4,
 "nbformat_minor": 5
}
